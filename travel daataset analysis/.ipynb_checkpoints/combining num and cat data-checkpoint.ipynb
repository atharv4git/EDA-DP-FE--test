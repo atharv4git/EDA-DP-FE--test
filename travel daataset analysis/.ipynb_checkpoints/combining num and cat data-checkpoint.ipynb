{
 "cells": [
  {
   "cell_type": "code",
   "execution_count": 1,
   "id": "8de187eb",
   "metadata": {},
   "outputs": [],
   "source": [
    "import pandas as pd\n",
    "import numpy as np\n",
    "import warnings\n",
    "warnings.simplefilter('ignore')"
   ]
  },
  {
   "cell_type": "code",
   "execution_count": 2,
   "id": "b00cfb11",
   "metadata": {},
   "outputs": [
    {
     "data": {
      "text/html": [
       "<div>\n",
       "<style scoped>\n",
       "    .dataframe tbody tr th:only-of-type {\n",
       "        vertical-align: middle;\n",
       "    }\n",
       "\n",
       "    .dataframe tbody tr th {\n",
       "        vertical-align: top;\n",
       "    }\n",
       "\n",
       "    .dataframe thead th {\n",
       "        text-align: right;\n",
       "    }\n",
       "</style>\n",
       "<table border=\"1\" class=\"dataframe\">\n",
       "  <thead>\n",
       "    <tr style=\"text-align: right;\">\n",
       "      <th></th>\n",
       "      <th>CustomerID</th>\n",
       "      <th>Age</th>\n",
       "      <th>DurationOfPitch</th>\n",
       "      <th>NumberOfFollowups</th>\n",
       "      <th>NumberOfTrips</th>\n",
       "      <th>NumberOfChildrenVisiting</th>\n",
       "      <th>MonthlyIncome</th>\n",
       "    </tr>\n",
       "  </thead>\n",
       "  <tbody>\n",
       "    <tr>\n",
       "      <th>0</th>\n",
       "      <td>200000</td>\n",
       "      <td>0.358290</td>\n",
       "      <td>-1.149469</td>\n",
       "      <td>-0.707330</td>\n",
       "      <td>-1.256315</td>\n",
       "      <td>-1.386915</td>\n",
       "      <td>-0.491907</td>\n",
       "    </tr>\n",
       "    <tr>\n",
       "      <th>1</th>\n",
       "      <td>200001</td>\n",
       "      <td>1.217465</td>\n",
       "      <td>-0.173080</td>\n",
       "      <td>0.291241</td>\n",
       "      <td>-0.693143</td>\n",
       "      <td>0.941632</td>\n",
       "      <td>-0.659379</td>\n",
       "    </tr>\n",
       "    <tr>\n",
       "      <th>2</th>\n",
       "      <td>200002</td>\n",
       "      <td>-0.071297</td>\n",
       "      <td>-0.905372</td>\n",
       "      <td>0.291241</td>\n",
       "      <td>2.122715</td>\n",
       "      <td>-1.386915</td>\n",
       "      <td>-1.249315</td>\n",
       "    </tr>\n",
       "    <tr>\n",
       "      <th>3</th>\n",
       "      <td>200003</td>\n",
       "      <td>-0.500884</td>\n",
       "      <td>-0.783323</td>\n",
       "      <td>-0.707330</td>\n",
       "      <td>-0.693143</td>\n",
       "      <td>-0.222641</td>\n",
       "      <td>-1.090382</td>\n",
       "    </tr>\n",
       "    <tr>\n",
       "      <th>4</th>\n",
       "      <td>200004</td>\n",
       "      <td>-0.608281</td>\n",
       "      <td>-0.905372</td>\n",
       "      <td>-0.707330</td>\n",
       "      <td>-1.256315</td>\n",
       "      <td>-1.386915</td>\n",
       "      <td>-0.981903</td>\n",
       "    </tr>\n",
       "  </tbody>\n",
       "</table>\n",
       "</div>"
      ],
      "text/plain": [
       "   CustomerID       Age  DurationOfPitch  NumberOfFollowups  NumberOfTrips  \\\n",
       "0      200000  0.358290        -1.149469          -0.707330      -1.256315   \n",
       "1      200001  1.217465        -0.173080           0.291241      -0.693143   \n",
       "2      200002 -0.071297        -0.905372           0.291241       2.122715   \n",
       "3      200003 -0.500884        -0.783323          -0.707330      -0.693143   \n",
       "4      200004 -0.608281        -0.905372          -0.707330      -1.256315   \n",
       "\n",
       "   NumberOfChildrenVisiting  MonthlyIncome  \n",
       "0                 -1.386915      -0.491907  \n",
       "1                  0.941632      -0.659379  \n",
       "2                 -1.386915      -1.249315  \n",
       "3                 -0.222641      -1.090382  \n",
       "4                 -1.386915      -0.981903  "
      ]
     },
     "execution_count": 2,
     "metadata": {},
     "output_type": "execute_result"
    }
   ],
   "source": [
    "num = pd.read_csv('Scalling data/num_data_new.csv')\n",
    "num.head()"
   ]
  },
  {
   "cell_type": "code",
   "execution_count": null,
   "id": "209e5986",
   "metadata": {},
   "outputs": [],
   "source": []
  }
 ],
 "metadata": {
  "kernelspec": {
   "display_name": "Python 3 (ipykernel)",
   "language": "python",
   "name": "python3"
  },
  "language_info": {
   "codemirror_mode": {
    "name": "ipython",
    "version": 3
   },
   "file_extension": ".py",
   "mimetype": "text/x-python",
   "name": "python",
   "nbconvert_exporter": "python",
   "pygments_lexer": "ipython3",
   "version": "3.9.12"
  }
 },
 "nbformat": 4,
 "nbformat_minor": 5
}
