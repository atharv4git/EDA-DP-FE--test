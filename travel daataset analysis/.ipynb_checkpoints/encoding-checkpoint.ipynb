{
 "cells": [
  {
   "cell_type": "markdown",
   "id": "12e48eeb",
   "metadata": {},
   "source": [
    "# Encoding (only for catagorical data)\n",
    "1. Label Encoding or Ordinal Encoding\n",
    "2. One-Hot Encoding\n",
    "3. Effect Encoding\n",
    "4. Binary Encoding\n",
    "5. Base-N Encoding\n",
    "6. Hash Encoding"
   ]
  },
  {
   "cell_type": "code",
   "execution_count": 1,
   "id": "d05a8f04",
   "metadata": {},
   "outputs": [],
   "source": [
    "import pandas as pd\n",
    "import warnings\n",
    "warnings.simplefilter('ignore')"
   ]
  },
  {
   "cell_type": "code",
   "execution_count": 2,
   "id": "642cd9f1",
   "metadata": {},
   "outputs": [
    {
     "data": {
      "text/html": [
       "<div>\n",
       "<style scoped>\n",
       "    .dataframe tbody tr th:only-of-type {\n",
       "        vertical-align: middle;\n",
       "    }\n",
       "\n",
       "    .dataframe tbody tr th {\n",
       "        vertical-align: top;\n",
       "    }\n",
       "\n",
       "    .dataframe thead th {\n",
       "        text-align: right;\n",
       "    }\n",
       "</style>\n",
       "<table border=\"1\" class=\"dataframe\">\n",
       "  <thead>\n",
       "    <tr style=\"text-align: right;\">\n",
       "      <th></th>\n",
       "      <th>Unnamed: 0.1</th>\n",
       "      <th>Unnamed: 0</th>\n",
       "      <th>CustomerID</th>\n",
       "      <th>ProdTaken</th>\n",
       "      <th>Age</th>\n",
       "      <th>TypeofContact</th>\n",
       "      <th>CityTier</th>\n",
       "      <th>DurationOfPitch</th>\n",
       "      <th>Occupation</th>\n",
       "      <th>Gender</th>\n",
       "      <th>...</th>\n",
       "      <th>ProductPitched</th>\n",
       "      <th>PreferredPropertyStar</th>\n",
       "      <th>MaritalStatus</th>\n",
       "      <th>NumberOfTrips</th>\n",
       "      <th>Passport</th>\n",
       "      <th>PitchSatisfactionScore</th>\n",
       "      <th>OwnCar</th>\n",
       "      <th>NumberOfChildrenVisiting</th>\n",
       "      <th>Designation</th>\n",
       "      <th>MonthlyIncome</th>\n",
       "    </tr>\n",
       "  </thead>\n",
       "  <tbody>\n",
       "    <tr>\n",
       "      <th>0</th>\n",
       "      <td>0</td>\n",
       "      <td>0</td>\n",
       "      <td>200000</td>\n",
       "      <td>1</td>\n",
       "      <td>41.0</td>\n",
       "      <td>Self Enquiry</td>\n",
       "      <td>3</td>\n",
       "      <td>6.0</td>\n",
       "      <td>Salaried</td>\n",
       "      <td>Female</td>\n",
       "      <td>...</td>\n",
       "      <td>Deluxe</td>\n",
       "      <td>3.0</td>\n",
       "      <td>Single</td>\n",
       "      <td>1.0</td>\n",
       "      <td>1</td>\n",
       "      <td>2</td>\n",
       "      <td>1</td>\n",
       "      <td>0.0</td>\n",
       "      <td>Manager</td>\n",
       "      <td>20993.0</td>\n",
       "    </tr>\n",
       "    <tr>\n",
       "      <th>1</th>\n",
       "      <td>1</td>\n",
       "      <td>1</td>\n",
       "      <td>200001</td>\n",
       "      <td>0</td>\n",
       "      <td>49.0</td>\n",
       "      <td>Company Invited</td>\n",
       "      <td>1</td>\n",
       "      <td>14.0</td>\n",
       "      <td>Salaried</td>\n",
       "      <td>Male</td>\n",
       "      <td>...</td>\n",
       "      <td>Deluxe</td>\n",
       "      <td>4.0</td>\n",
       "      <td>Divorced</td>\n",
       "      <td>2.0</td>\n",
       "      <td>0</td>\n",
       "      <td>3</td>\n",
       "      <td>1</td>\n",
       "      <td>2.0</td>\n",
       "      <td>Manager</td>\n",
       "      <td>20130.0</td>\n",
       "    </tr>\n",
       "    <tr>\n",
       "      <th>2</th>\n",
       "      <td>2</td>\n",
       "      <td>2</td>\n",
       "      <td>200002</td>\n",
       "      <td>1</td>\n",
       "      <td>37.0</td>\n",
       "      <td>Self Enquiry</td>\n",
       "      <td>1</td>\n",
       "      <td>8.0</td>\n",
       "      <td>Free Lancer</td>\n",
       "      <td>Male</td>\n",
       "      <td>...</td>\n",
       "      <td>Basic</td>\n",
       "      <td>3.0</td>\n",
       "      <td>Single</td>\n",
       "      <td>7.0</td>\n",
       "      <td>1</td>\n",
       "      <td>3</td>\n",
       "      <td>0</td>\n",
       "      <td>0.0</td>\n",
       "      <td>Executive</td>\n",
       "      <td>17090.0</td>\n",
       "    </tr>\n",
       "    <tr>\n",
       "      <th>3</th>\n",
       "      <td>3</td>\n",
       "      <td>3</td>\n",
       "      <td>200003</td>\n",
       "      <td>0</td>\n",
       "      <td>33.0</td>\n",
       "      <td>Company Invited</td>\n",
       "      <td>1</td>\n",
       "      <td>9.0</td>\n",
       "      <td>Salaried</td>\n",
       "      <td>Female</td>\n",
       "      <td>...</td>\n",
       "      <td>Basic</td>\n",
       "      <td>3.0</td>\n",
       "      <td>Divorced</td>\n",
       "      <td>2.0</td>\n",
       "      <td>1</td>\n",
       "      <td>5</td>\n",
       "      <td>1</td>\n",
       "      <td>1.0</td>\n",
       "      <td>Executive</td>\n",
       "      <td>17909.0</td>\n",
       "    </tr>\n",
       "    <tr>\n",
       "      <th>4</th>\n",
       "      <td>4</td>\n",
       "      <td>4</td>\n",
       "      <td>200004</td>\n",
       "      <td>0</td>\n",
       "      <td>32.0</td>\n",
       "      <td>Self Enquiry</td>\n",
       "      <td>1</td>\n",
       "      <td>8.0</td>\n",
       "      <td>Small Business</td>\n",
       "      <td>Male</td>\n",
       "      <td>...</td>\n",
       "      <td>Basic</td>\n",
       "      <td>4.0</td>\n",
       "      <td>Divorced</td>\n",
       "      <td>1.0</td>\n",
       "      <td>0</td>\n",
       "      <td>5</td>\n",
       "      <td>1</td>\n",
       "      <td>0.0</td>\n",
       "      <td>Executive</td>\n",
       "      <td>18468.0</td>\n",
       "    </tr>\n",
       "  </tbody>\n",
       "</table>\n",
       "<p>5 rows × 22 columns</p>\n",
       "</div>"
      ],
      "text/plain": [
       "   Unnamed: 0.1  Unnamed: 0  CustomerID  ProdTaken   Age    TypeofContact  \\\n",
       "0             0           0      200000          1  41.0     Self Enquiry   \n",
       "1             1           1      200001          0  49.0  Company Invited   \n",
       "2             2           2      200002          1  37.0     Self Enquiry   \n",
       "3             3           3      200003          0  33.0  Company Invited   \n",
       "4             4           4      200004          0  32.0     Self Enquiry   \n",
       "\n",
       "   CityTier  DurationOfPitch      Occupation  Gender  ...  ProductPitched  \\\n",
       "0         3              6.0        Salaried  Female  ...          Deluxe   \n",
       "1         1             14.0        Salaried    Male  ...          Deluxe   \n",
       "2         1              8.0     Free Lancer    Male  ...           Basic   \n",
       "3         1              9.0        Salaried  Female  ...           Basic   \n",
       "4         1              8.0  Small Business    Male  ...           Basic   \n",
       "\n",
       "   PreferredPropertyStar MaritalStatus  NumberOfTrips Passport  \\\n",
       "0                    3.0        Single            1.0        1   \n",
       "1                    4.0      Divorced            2.0        0   \n",
       "2                    3.0        Single            7.0        1   \n",
       "3                    3.0      Divorced            2.0        1   \n",
       "4                    4.0      Divorced            1.0        0   \n",
       "\n",
       "   PitchSatisfactionScore  OwnCar  NumberOfChildrenVisiting  Designation  \\\n",
       "0                       2       1                       0.0      Manager   \n",
       "1                       3       1                       2.0      Manager   \n",
       "2                       3       0                       0.0    Executive   \n",
       "3                       5       1                       1.0    Executive   \n",
       "4                       5       1                       0.0    Executive   \n",
       "\n",
       "   MonthlyIncome  \n",
       "0        20993.0  \n",
       "1        20130.0  \n",
       "2        17090.0  \n",
       "3        17909.0  \n",
       "4        18468.0  \n",
       "\n",
       "[5 rows x 22 columns]"
      ]
     },
     "execution_count": 2,
     "metadata": {},
     "output_type": "execute_result"
    }
   ],
   "source": [
    "data = pd.read_csv('no_outliers/data_nooutliers1.csv')\n",
    "data.head()"
   ]
  },
  {
   "cell_type": "code",
   "execution_count": 3,
   "id": "52b6b36b",
   "metadata": {},
   "outputs": [],
   "source": [
    "cat_data=data[[fea for fea in data.columns if data[fea].dtype == 'O']]"
   ]
  },
  {
   "cell_type": "code",
   "execution_count": 4,
   "id": "19040789",
   "metadata": {},
   "outputs": [
    {
     "data": {
      "text/html": [
       "<div>\n",
       "<style scoped>\n",
       "    .dataframe tbody tr th:only-of-type {\n",
       "        vertical-align: middle;\n",
       "    }\n",
       "\n",
       "    .dataframe tbody tr th {\n",
       "        vertical-align: top;\n",
       "    }\n",
       "\n",
       "    .dataframe thead th {\n",
       "        text-align: right;\n",
       "    }\n",
       "</style>\n",
       "<table border=\"1\" class=\"dataframe\">\n",
       "  <thead>\n",
       "    <tr style=\"text-align: right;\">\n",
       "      <th></th>\n",
       "      <th>TypeofContact</th>\n",
       "      <th>Occupation</th>\n",
       "      <th>Gender</th>\n",
       "      <th>ProductPitched</th>\n",
       "      <th>MaritalStatus</th>\n",
       "      <th>Designation</th>\n",
       "    </tr>\n",
       "  </thead>\n",
       "  <tbody>\n",
       "    <tr>\n",
       "      <th>0</th>\n",
       "      <td>Self Enquiry</td>\n",
       "      <td>Salaried</td>\n",
       "      <td>Female</td>\n",
       "      <td>Deluxe</td>\n",
       "      <td>Single</td>\n",
       "      <td>Manager</td>\n",
       "    </tr>\n",
       "    <tr>\n",
       "      <th>1</th>\n",
       "      <td>Company Invited</td>\n",
       "      <td>Salaried</td>\n",
       "      <td>Male</td>\n",
       "      <td>Deluxe</td>\n",
       "      <td>Divorced</td>\n",
       "      <td>Manager</td>\n",
       "    </tr>\n",
       "    <tr>\n",
       "      <th>2</th>\n",
       "      <td>Self Enquiry</td>\n",
       "      <td>Free Lancer</td>\n",
       "      <td>Male</td>\n",
       "      <td>Basic</td>\n",
       "      <td>Single</td>\n",
       "      <td>Executive</td>\n",
       "    </tr>\n",
       "    <tr>\n",
       "      <th>3</th>\n",
       "      <td>Company Invited</td>\n",
       "      <td>Salaried</td>\n",
       "      <td>Female</td>\n",
       "      <td>Basic</td>\n",
       "      <td>Divorced</td>\n",
       "      <td>Executive</td>\n",
       "    </tr>\n",
       "    <tr>\n",
       "      <th>4</th>\n",
       "      <td>Self Enquiry</td>\n",
       "      <td>Small Business</td>\n",
       "      <td>Male</td>\n",
       "      <td>Basic</td>\n",
       "      <td>Divorced</td>\n",
       "      <td>Executive</td>\n",
       "    </tr>\n",
       "  </tbody>\n",
       "</table>\n",
       "</div>"
      ],
      "text/plain": [
       "     TypeofContact      Occupation  Gender ProductPitched MaritalStatus  \\\n",
       "0     Self Enquiry        Salaried  Female         Deluxe        Single   \n",
       "1  Company Invited        Salaried    Male         Deluxe      Divorced   \n",
       "2     Self Enquiry     Free Lancer    Male          Basic        Single   \n",
       "3  Company Invited        Salaried  Female          Basic      Divorced   \n",
       "4     Self Enquiry  Small Business    Male          Basic      Divorced   \n",
       "\n",
       "  Designation  \n",
       "0     Manager  \n",
       "1     Manager  \n",
       "2   Executive  \n",
       "3   Executive  \n",
       "4   Executive  "
      ]
     },
     "execution_count": 4,
     "metadata": {},
     "output_type": "execute_result"
    }
   ],
   "source": [
    "cat_data.head()"
   ]
  },
  {
   "cell_type": "code",
   "execution_count": 5,
   "id": "85e8b824",
   "metadata": {},
   "outputs": [],
   "source": [
    "import category_encoders as ce"
   ]
  },
  {
   "cell_type": "markdown",
   "id": "1d5bd52c",
   "metadata": {},
   "source": [
    "## Label or ordinal encoding"
   ]
  },
  {
   "cell_type": "code",
   "execution_count": 6,
   "id": "2dbc3e98",
   "metadata": {},
   "outputs": [
    {
     "data": {
      "text/plain": [
       "array(['Self Enquiry', 'Company Invited'], dtype=object)"
      ]
     },
     "execution_count": 6,
     "metadata": {},
     "output_type": "execute_result"
    }
   ],
   "source": [
    "data.TypeofContact.unique()"
   ]
  },
  {
   "cell_type": "code",
   "execution_count": 7,
   "id": "2760a507",
   "metadata": {},
   "outputs": [],
   "source": [
    "enc_toc = ce.OrdinalEncoder(cols=['TypeofContact'],return_df=True,mapping = [{'col':'TypeofContact','mapping':{'Self Enquiry':0,'Company Invited':1}}])"
   ]
  },
  {
   "cell_type": "code",
   "execution_count": 8,
   "id": "c1683500",
   "metadata": {},
   "outputs": [],
   "source": [
    "data_enc_toc=enc_toc.fit_transform(cat_data)"
   ]
  },
  {
   "cell_type": "code",
   "execution_count": 9,
   "id": "d37dbb25",
   "metadata": {},
   "outputs": [],
   "source": [
    "data_enc_toc['CustomerID'] = data['CustomerID']"
   ]
  },
  {
   "cell_type": "markdown",
   "id": "8c83b646",
   "metadata": {},
   "source": [
    "## One Hot encoding"
   ]
  },
  {
   "cell_type": "code",
   "execution_count": 10,
   "id": "c0bfb833",
   "metadata": {},
   "outputs": [
    {
     "data": {
      "text/plain": [
       "Index(['TypeofContact', 'Occupation', 'Gender', 'ProductPitched',\n",
       "       'MaritalStatus', 'Designation'],\n",
       "      dtype='object')"
      ]
     },
     "execution_count": 10,
     "metadata": {},
     "output_type": "execute_result"
    }
   ],
   "source": [
    "cat_data.columns"
   ]
  },
  {
   "cell_type": "code",
   "execution_count": 11,
   "id": "c43ac26d",
   "metadata": {},
   "outputs": [],
   "source": [
    "enc_oh = ce.OneHotEncoder(cols=['TypeofContact', 'Occupation', 'Gender', 'ProductPitched',\n",
    "       'MaritalStatus', 'Designation'],handle_unknown='return_nan',return_df=True,use_cat_names=True)"
   ]
  },
  {
   "cell_type": "code",
   "execution_count": 12,
   "id": "cfe9e37d",
   "metadata": {},
   "outputs": [],
   "source": [
    "data_enc_oh = enc_oh.fit_transform(cat_data)"
   ]
  },
  {
   "cell_type": "code",
   "execution_count": 13,
   "id": "f1b67140",
   "metadata": {},
   "outputs": [],
   "source": [
    "data_enc_oh['CustomerID'] = data['CustomerID']"
   ]
  },
  {
   "cell_type": "markdown",
   "id": "c66b7b48",
   "metadata": {},
   "source": [
    "## Effect encoding"
   ]
  },
  {
   "cell_type": "code",
   "execution_count": 14,
   "id": "abd368aa",
   "metadata": {},
   "outputs": [],
   "source": [
    "enc_effect = ce.sum_coding.SumEncoder(cols=cat_data.columns,verbose=False)"
   ]
  },
  {
   "cell_type": "code",
   "execution_count": 15,
   "id": "a9c1e01d",
   "metadata": {},
   "outputs": [],
   "source": [
    "data_enc_effect = enc_effect.fit_transform(cat_data)"
   ]
  },
  {
   "cell_type": "code",
   "execution_count": 16,
   "id": "f2c4596b",
   "metadata": {},
   "outputs": [],
   "source": [
    "data_enc_effect['CustomerID'] = data['CustomerID']"
   ]
  },
  {
   "cell_type": "markdown",
   "id": "db4a3cd7",
   "metadata": {},
   "source": [
    "## Hash encoder"
   ]
  },
  {
   "cell_type": "code",
   "execution_count": 17,
   "id": "7067a7f9",
   "metadata": {},
   "outputs": [],
   "source": [
    "enc_hash = ce.HashingEncoder(cols=cat_data.columns)"
   ]
  },
  {
   "cell_type": "code",
   "execution_count": 18,
   "id": "6b361474",
   "metadata": {},
   "outputs": [],
   "source": [
    "data_enc_hash=enc_hash.fit_transform(cat_data)"
   ]
  },
  {
   "cell_type": "code",
   "execution_count": 19,
   "id": "45f92fc5",
   "metadata": {},
   "outputs": [],
   "source": [
    "data_enc_hash['CustomerID'] = data['CustomerID']"
   ]
  },
  {
   "cell_type": "markdown",
   "id": "71a2933b",
   "metadata": {},
   "source": [
    "## Binary encoder\n",
    "its useless here though"
   ]
  },
  {
   "cell_type": "code",
   "execution_count": 20,
   "id": "c4ed1384",
   "metadata": {},
   "outputs": [],
   "source": [
    "enc_binary = ce.BinaryEncoder(cols=cat_data.columns)"
   ]
  },
  {
   "cell_type": "code",
   "execution_count": 21,
   "id": "ff18780b",
   "metadata": {},
   "outputs": [
    {
     "data": {
      "text/html": [
       "<div>\n",
       "<style scoped>\n",
       "    .dataframe tbody tr th:only-of-type {\n",
       "        vertical-align: middle;\n",
       "    }\n",
       "\n",
       "    .dataframe tbody tr th {\n",
       "        vertical-align: top;\n",
       "    }\n",
       "\n",
       "    .dataframe thead th {\n",
       "        text-align: right;\n",
       "    }\n",
       "</style>\n",
       "<table border=\"1\" class=\"dataframe\">\n",
       "  <thead>\n",
       "    <tr style=\"text-align: right;\">\n",
       "      <th></th>\n",
       "      <th>TypeofContact_0</th>\n",
       "      <th>TypeofContact_1</th>\n",
       "      <th>Occupation_0</th>\n",
       "      <th>Occupation_1</th>\n",
       "      <th>Occupation_2</th>\n",
       "      <th>Gender_0</th>\n",
       "      <th>Gender_1</th>\n",
       "      <th>ProductPitched_0</th>\n",
       "      <th>ProductPitched_1</th>\n",
       "      <th>ProductPitched_2</th>\n",
       "      <th>MaritalStatus_0</th>\n",
       "      <th>MaritalStatus_1</th>\n",
       "      <th>MaritalStatus_2</th>\n",
       "      <th>Designation_0</th>\n",
       "      <th>Designation_1</th>\n",
       "      <th>Designation_2</th>\n",
       "    </tr>\n",
       "  </thead>\n",
       "  <tbody>\n",
       "    <tr>\n",
       "      <th>0</th>\n",
       "      <td>0</td>\n",
       "      <td>1</td>\n",
       "      <td>0</td>\n",
       "      <td>0</td>\n",
       "      <td>1</td>\n",
       "      <td>0</td>\n",
       "      <td>1</td>\n",
       "      <td>0</td>\n",
       "      <td>0</td>\n",
       "      <td>1</td>\n",
       "      <td>0</td>\n",
       "      <td>0</td>\n",
       "      <td>1</td>\n",
       "      <td>0</td>\n",
       "      <td>0</td>\n",
       "      <td>1</td>\n",
       "    </tr>\n",
       "    <tr>\n",
       "      <th>1</th>\n",
       "      <td>1</td>\n",
       "      <td>0</td>\n",
       "      <td>0</td>\n",
       "      <td>0</td>\n",
       "      <td>1</td>\n",
       "      <td>1</td>\n",
       "      <td>0</td>\n",
       "      <td>0</td>\n",
       "      <td>0</td>\n",
       "      <td>1</td>\n",
       "      <td>0</td>\n",
       "      <td>1</td>\n",
       "      <td>0</td>\n",
       "      <td>0</td>\n",
       "      <td>0</td>\n",
       "      <td>1</td>\n",
       "    </tr>\n",
       "    <tr>\n",
       "      <th>2</th>\n",
       "      <td>0</td>\n",
       "      <td>1</td>\n",
       "      <td>0</td>\n",
       "      <td>1</td>\n",
       "      <td>0</td>\n",
       "      <td>1</td>\n",
       "      <td>0</td>\n",
       "      <td>0</td>\n",
       "      <td>1</td>\n",
       "      <td>0</td>\n",
       "      <td>0</td>\n",
       "      <td>0</td>\n",
       "      <td>1</td>\n",
       "      <td>0</td>\n",
       "      <td>1</td>\n",
       "      <td>0</td>\n",
       "    </tr>\n",
       "    <tr>\n",
       "      <th>3</th>\n",
       "      <td>1</td>\n",
       "      <td>0</td>\n",
       "      <td>0</td>\n",
       "      <td>0</td>\n",
       "      <td>1</td>\n",
       "      <td>0</td>\n",
       "      <td>1</td>\n",
       "      <td>0</td>\n",
       "      <td>1</td>\n",
       "      <td>0</td>\n",
       "      <td>0</td>\n",
       "      <td>1</td>\n",
       "      <td>0</td>\n",
       "      <td>0</td>\n",
       "      <td>1</td>\n",
       "      <td>0</td>\n",
       "    </tr>\n",
       "    <tr>\n",
       "      <th>4</th>\n",
       "      <td>0</td>\n",
       "      <td>1</td>\n",
       "      <td>0</td>\n",
       "      <td>1</td>\n",
       "      <td>1</td>\n",
       "      <td>1</td>\n",
       "      <td>0</td>\n",
       "      <td>0</td>\n",
       "      <td>1</td>\n",
       "      <td>0</td>\n",
       "      <td>0</td>\n",
       "      <td>1</td>\n",
       "      <td>0</td>\n",
       "      <td>0</td>\n",
       "      <td>1</td>\n",
       "      <td>0</td>\n",
       "    </tr>\n",
       "    <tr>\n",
       "      <th>...</th>\n",
       "      <td>...</td>\n",
       "      <td>...</td>\n",
       "      <td>...</td>\n",
       "      <td>...</td>\n",
       "      <td>...</td>\n",
       "      <td>...</td>\n",
       "      <td>...</td>\n",
       "      <td>...</td>\n",
       "      <td>...</td>\n",
       "      <td>...</td>\n",
       "      <td>...</td>\n",
       "      <td>...</td>\n",
       "      <td>...</td>\n",
       "      <td>...</td>\n",
       "      <td>...</td>\n",
       "      <td>...</td>\n",
       "    </tr>\n",
       "    <tr>\n",
       "      <th>4874</th>\n",
       "      <td>0</td>\n",
       "      <td>1</td>\n",
       "      <td>0</td>\n",
       "      <td>1</td>\n",
       "      <td>1</td>\n",
       "      <td>1</td>\n",
       "      <td>0</td>\n",
       "      <td>0</td>\n",
       "      <td>0</td>\n",
       "      <td>1</td>\n",
       "      <td>1</td>\n",
       "      <td>0</td>\n",
       "      <td>0</td>\n",
       "      <td>0</td>\n",
       "      <td>0</td>\n",
       "      <td>1</td>\n",
       "    </tr>\n",
       "    <tr>\n",
       "      <th>4875</th>\n",
       "      <td>1</td>\n",
       "      <td>0</td>\n",
       "      <td>0</td>\n",
       "      <td>0</td>\n",
       "      <td>1</td>\n",
       "      <td>1</td>\n",
       "      <td>0</td>\n",
       "      <td>0</td>\n",
       "      <td>1</td>\n",
       "      <td>0</td>\n",
       "      <td>0</td>\n",
       "      <td>0</td>\n",
       "      <td>1</td>\n",
       "      <td>0</td>\n",
       "      <td>1</td>\n",
       "      <td>0</td>\n",
       "    </tr>\n",
       "    <tr>\n",
       "      <th>4876</th>\n",
       "      <td>0</td>\n",
       "      <td>1</td>\n",
       "      <td>0</td>\n",
       "      <td>0</td>\n",
       "      <td>1</td>\n",
       "      <td>0</td>\n",
       "      <td>1</td>\n",
       "      <td>0</td>\n",
       "      <td>1</td>\n",
       "      <td>1</td>\n",
       "      <td>0</td>\n",
       "      <td>1</td>\n",
       "      <td>1</td>\n",
       "      <td>0</td>\n",
       "      <td>1</td>\n",
       "      <td>1</td>\n",
       "    </tr>\n",
       "    <tr>\n",
       "      <th>4877</th>\n",
       "      <td>0</td>\n",
       "      <td>1</td>\n",
       "      <td>0</td>\n",
       "      <td>1</td>\n",
       "      <td>1</td>\n",
       "      <td>1</td>\n",
       "      <td>0</td>\n",
       "      <td>0</td>\n",
       "      <td>1</td>\n",
       "      <td>0</td>\n",
       "      <td>0</td>\n",
       "      <td>0</td>\n",
       "      <td>1</td>\n",
       "      <td>0</td>\n",
       "      <td>1</td>\n",
       "      <td>0</td>\n",
       "    </tr>\n",
       "    <tr>\n",
       "      <th>4878</th>\n",
       "      <td>0</td>\n",
       "      <td>1</td>\n",
       "      <td>0</td>\n",
       "      <td>0</td>\n",
       "      <td>1</td>\n",
       "      <td>1</td>\n",
       "      <td>0</td>\n",
       "      <td>0</td>\n",
       "      <td>1</td>\n",
       "      <td>0</td>\n",
       "      <td>1</td>\n",
       "      <td>0</td>\n",
       "      <td>0</td>\n",
       "      <td>0</td>\n",
       "      <td>1</td>\n",
       "      <td>0</td>\n",
       "    </tr>\n",
       "  </tbody>\n",
       "</table>\n",
       "<p>4879 rows × 16 columns</p>\n",
       "</div>"
      ],
      "text/plain": [
       "      TypeofContact_0  TypeofContact_1  Occupation_0  Occupation_1  \\\n",
       "0                   0                1             0             0   \n",
       "1                   1                0             0             0   \n",
       "2                   0                1             0             1   \n",
       "3                   1                0             0             0   \n",
       "4                   0                1             0             1   \n",
       "...               ...              ...           ...           ...   \n",
       "4874                0                1             0             1   \n",
       "4875                1                0             0             0   \n",
       "4876                0                1             0             0   \n",
       "4877                0                1             0             1   \n",
       "4878                0                1             0             0   \n",
       "\n",
       "      Occupation_2  Gender_0  Gender_1  ProductPitched_0  ProductPitched_1  \\\n",
       "0                1         0         1                 0                 0   \n",
       "1                1         1         0                 0                 0   \n",
       "2                0         1         0                 0                 1   \n",
       "3                1         0         1                 0                 1   \n",
       "4                1         1         0                 0                 1   \n",
       "...            ...       ...       ...               ...               ...   \n",
       "4874             1         1         0                 0                 0   \n",
       "4875             1         1         0                 0                 1   \n",
       "4876             1         0         1                 0                 1   \n",
       "4877             1         1         0                 0                 1   \n",
       "4878             1         1         0                 0                 1   \n",
       "\n",
       "      ProductPitched_2  MaritalStatus_0  MaritalStatus_1  MaritalStatus_2  \\\n",
       "0                    1                0                0                1   \n",
       "1                    1                0                1                0   \n",
       "2                    0                0                0                1   \n",
       "3                    0                0                1                0   \n",
       "4                    0                0                1                0   \n",
       "...                ...              ...              ...              ...   \n",
       "4874                 1                1                0                0   \n",
       "4875                 0                0                0                1   \n",
       "4876                 1                0                1                1   \n",
       "4877                 0                0                0                1   \n",
       "4878                 0                1                0                0   \n",
       "\n",
       "      Designation_0  Designation_1  Designation_2  \n",
       "0                 0              0              1  \n",
       "1                 0              0              1  \n",
       "2                 0              1              0  \n",
       "3                 0              1              0  \n",
       "4                 0              1              0  \n",
       "...             ...            ...            ...  \n",
       "4874              0              0              1  \n",
       "4875              0              1              0  \n",
       "4876              0              1              1  \n",
       "4877              0              1              0  \n",
       "4878              0              1              0  \n",
       "\n",
       "[4879 rows x 16 columns]"
      ]
     },
     "execution_count": 21,
     "metadata": {},
     "output_type": "execute_result"
    }
   ],
   "source": [
    "enc_binary.fit_transform(cat_data)"
   ]
  },
  {
   "cell_type": "markdown",
   "id": "84d065ff",
   "metadata": {},
   "source": [
    "## Base-N encoding"
   ]
  },
  {
   "cell_type": "code",
   "execution_count": 22,
   "id": "4474422b",
   "metadata": {},
   "outputs": [],
   "source": [
    "enc_baseN = ce.BaseNEncoder(cols=cat_data.columns,return_df=True,base=5)"
   ]
  },
  {
   "cell_type": "code",
   "execution_count": 23,
   "id": "c75a56aa",
   "metadata": {},
   "outputs": [],
   "source": [
    "data_enc_baseN=enc_baseN.fit_transform(cat_data)"
   ]
  },
  {
   "cell_type": "code",
   "execution_count": 24,
   "id": "06822868",
   "metadata": {},
   "outputs": [],
   "source": [
    "data_enc_baseN['CustomerID'] = data['CustomerID']"
   ]
  },
  {
   "cell_type": "markdown",
   "id": "102e863c",
   "metadata": {},
   "source": [
    "# Turning encoded values to csv"
   ]
  },
  {
   "cell_type": "code",
   "execution_count": 25,
   "id": "132b6292",
   "metadata": {},
   "outputs": [
    {
     "ename": "FileExistsError",
     "evalue": "[WinError 183] Cannot create a file when that file already exists: 'encoded'",
     "output_type": "error",
     "traceback": [
      "\u001b[1;31m---------------------------------------------------------------------------\u001b[0m",
      "\u001b[1;31mFileExistsError\u001b[0m                           Traceback (most recent call last)",
      "Input \u001b[1;32mIn [25]\u001b[0m, in \u001b[0;36m<cell line: 2>\u001b[1;34m()\u001b[0m\n\u001b[0;32m      1\u001b[0m \u001b[38;5;28;01mimport\u001b[39;00m \u001b[38;5;21;01mos\u001b[39;00m\n\u001b[1;32m----> 2\u001b[0m \u001b[43mos\u001b[49m\u001b[38;5;241;43m.\u001b[39;49m\u001b[43mmakedirs\u001b[49m\u001b[43m(\u001b[49m\u001b[38;5;124;43m'\u001b[39;49m\u001b[38;5;124;43mencoded\u001b[39;49m\u001b[38;5;124;43m'\u001b[39;49m\u001b[43m)\u001b[49m\n",
      "File \u001b[1;32m~\\anaconda3\\lib\\os.py:225\u001b[0m, in \u001b[0;36mmakedirs\u001b[1;34m(name, mode, exist_ok)\u001b[0m\n\u001b[0;32m    223\u001b[0m         \u001b[38;5;28;01mreturn\u001b[39;00m\n\u001b[0;32m    224\u001b[0m \u001b[38;5;28;01mtry\u001b[39;00m:\n\u001b[1;32m--> 225\u001b[0m     \u001b[43mmkdir\u001b[49m\u001b[43m(\u001b[49m\u001b[43mname\u001b[49m\u001b[43m,\u001b[49m\u001b[43m \u001b[49m\u001b[43mmode\u001b[49m\u001b[43m)\u001b[49m\n\u001b[0;32m    226\u001b[0m \u001b[38;5;28;01mexcept\u001b[39;00m \u001b[38;5;167;01mOSError\u001b[39;00m:\n\u001b[0;32m    227\u001b[0m     \u001b[38;5;66;03m# Cannot rely on checking for EEXIST, since the operating system\u001b[39;00m\n\u001b[0;32m    228\u001b[0m     \u001b[38;5;66;03m# could give priority to other errors like EACCES or EROFS\u001b[39;00m\n\u001b[0;32m    229\u001b[0m     \u001b[38;5;28;01mif\u001b[39;00m \u001b[38;5;129;01mnot\u001b[39;00m exist_ok \u001b[38;5;129;01mor\u001b[39;00m \u001b[38;5;129;01mnot\u001b[39;00m path\u001b[38;5;241m.\u001b[39misdir(name):\n",
      "\u001b[1;31mFileExistsError\u001b[0m: [WinError 183] Cannot create a file when that file already exists: 'encoded'"
     ]
    }
   ],
   "source": [
    "import os\n",
    "os.makedirs('encoded')"
   ]
  },
  {
   "cell_type": "code",
   "execution_count": 26,
   "id": "1988db8a",
   "metadata": {},
   "outputs": [],
   "source": [
    "data_enc_baseN.to_csv('encoded/data_enc_baseN.csv')"
   ]
  },
  {
   "cell_type": "code",
   "execution_count": 27,
   "id": "e0ab17b3",
   "metadata": {},
   "outputs": [],
   "source": [
    "data_enc_effect.to_csv('encoded/data_enc_effect.csv')"
   ]
  },
  {
   "cell_type": "code",
   "execution_count": 28,
   "id": "90996138",
   "metadata": {},
   "outputs": [],
   "source": [
    "data_enc_hash.to_csv('encoded/data_enc_hash.csv')"
   ]
  },
  {
   "cell_type": "code",
   "execution_count": 29,
   "id": "450c3dab",
   "metadata": {},
   "outputs": [],
   "source": [
    "data_enc_oh.to_csv('encoded/data_enc_oh.csv')"
   ]
  },
  {
   "cell_type": "code",
   "execution_count": 30,
   "id": "4abf5ff6",
   "metadata": {},
   "outputs": [],
   "source": [
    "data_enc_toc.to_csv('encoded/data_enc_toc.csv')"
   ]
  },
  {
   "cell_type": "code",
   "execution_count": null,
   "id": "d8412f6c",
   "metadata": {},
   "outputs": [],
   "source": []
  }
 ],
 "metadata": {
  "kernelspec": {
   "display_name": "Python 3 (ipykernel)",
   "language": "python",
   "name": "python3"
  },
  "language_info": {
   "codemirror_mode": {
    "name": "ipython",
    "version": 3
   },
   "file_extension": ".py",
   "mimetype": "text/x-python",
   "name": "python",
   "nbconvert_exporter": "python",
   "pygments_lexer": "ipython3",
   "version": "3.9.12"
  }
 },
 "nbformat": 4,
 "nbformat_minor": 5
}
